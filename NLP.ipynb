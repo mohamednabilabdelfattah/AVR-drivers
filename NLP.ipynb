{
  "nbformat": 4,
  "nbformat_minor": 0,
  "metadata": {
    "colab": {
      "provenance": [],
      "gpuType": "T4",
      "authorship_tag": "ABX9TyOYeXjtz1LuHI3lvKafw9PC",
      "include_colab_link": true
    },
    "kernelspec": {
      "name": "python3",
      "display_name": "Python 3"
    },
    "language_info": {
      "name": "python"
    },
    "accelerator": "GPU"
  },
  "cells": [
    {
      "cell_type": "markdown",
      "metadata": {
        "id": "view-in-github",
        "colab_type": "text"
      },
      "source": [
        "<a href=\"https://colab.research.google.com/github/mohamednabilabdelfattah/AVR-drivers/blob/main/NLP.ipynb\" target=\"_parent\"><img src=\"https://colab.research.google.com/assets/colab-badge.svg\" alt=\"Open In Colab\"/></a>"
      ]
    },
    {
      "cell_type": "code",
      "execution_count": 1,
      "metadata": {
        "id": "8L36rbdI0odU"
      },
      "outputs": [],
      "source": [
        "# Import necessary libraries\n",
        "import torch\n",
        "import torch.nn as nn\n",
        "import pickle\n",
        "import numpy as np\n",
        "import re\n",
        "import torch.optim as optim\n",
        "from torch.utils.data import Dataset, DataLoader"
      ]
    },
    {
      "cell_type": "code",
      "source": [
        "device = torch.device(\"cuda\" if torch.cuda.is_available() else \"cpu\"); print(device)"
      ],
      "metadata": {
        "colab": {
          "base_uri": "https://localhost:8080/"
        },
        "id": "FKX8NYU40vda",
        "outputId": "cfeb7c3a-abeb-439b-a26b-d2e2f0079750"
      },
      "execution_count": 2,
      "outputs": [
        {
          "output_type": "stream",
          "name": "stdout",
          "text": [
            "cuda\n"
          ]
        }
      ]
    },
    {
      "cell_type": "code",
      "source": [
        "# load data\n",
        "with open('dataset/cleaned_train_data_with_diacritics.txt', 'r', encoding='utf-8') as file:\n",
        "    training_data_diacritized = re.compile(r'[\\n\\r\\t\\s]').sub('', file.read())\n",
        "with open('dataset/cleaned_train_data_without_diacritics.txt', 'r', encoding='utf-8') as file:\n",
        "    training_data = re.compile(r'[\\n\\r\\t\\s]').sub('', file.read())\n",
        "with open('dataset/cleaned_val_data_with_diacritics.txt', 'r', encoding='utf-8') as file:\n",
        "    validation_data_diacritized = re.compile(r'[\\n\\r\\t\\s]').sub('', file.read())\n",
        "with open('dataset/cleaned_val_data_without_diacritics.txt', 'r', encoding='utf-8') as file:\n",
        "    validation_data = re.compile(r'[\\n\\r\\t\\s]').sub('', file.read())"
      ],
      "metadata": {
        "id": "AvK1KOkT0xjz"
      },
      "execution_count": 4,
      "outputs": []
    },
    {
      "cell_type": "code",
      "source": [
        "# define the diacritics unicode and their corresponding labels classes indices\n",
        "# note that index 0 is reserved for no diacritic\n",
        "labels = {\n",
        "    # no diacritic\n",
        "    0: 0,\n",
        "    # fath\n",
        "    1614: 1,\n",
        "    # damm\n",
        "    1615: 2,\n",
        "    # kasr\n",
        "    1616: 3,\n",
        "    # shadd\n",
        "    1617: 4,\n",
        "    # sukun\n",
        "    1618: 5,\n",
        "    # tanween bel fath\n",
        "    1611: 6,\n",
        "    # tanween bel damm\n",
        "    1612: 7,\n",
        "    # tanween bel kasr\n",
        "    1613: 8,\n",
        "    # shadd and fath\n",
        "    (1617, 1614): 9,\n",
        "    # shadd and damm\n",
        "    (1617, 1615): 10,\n",
        "    # shadd and kasr\n",
        "    (1617, 1616): 11,\n",
        "    # shadd and tanween bel fath\n",
        "    (1617, 1611): 12,\n",
        "    # shadd and tanween bel damm\n",
        "    (1617, 1612): 13,\n",
        "    # shadd and tanween bel kasr\n",
        "    (1617, 1613): 14\n",
        "}\n",
        "\n",
        "indicies_to_labels = {\n",
        "    # no diacritic\n",
        "    0: 0,\n",
        "    # fath\n",
        "    1: 1614,\n",
        "    # damm\n",
        "    2: 1615,\n",
        "    # kasr\n",
        "    3: 1616,\n",
        "    # shadd\n",
        "    4: 1617,\n",
        "    # sukun\n",
        "    5: 1618,\n",
        "    # tanween bel fath\n",
        "    6: 1611,\n",
        "    # tanween bel damm\n",
        "    7: 1612,\n",
        "    # tanween bel kasr\n",
        "    8: 1613,\n",
        "    # shadd and fath\n",
        "    9: (1617, 1614),\n",
        "    # shadd and damm\n",
        "    10: (1617, 1615),\n",
        "    # shadd and kasr\n",
        "    11: (1617, 1616),\n",
        "    # shadd and tanween bel fath\n",
        "    12: (1617, 1611),\n",
        "    # shadd and tanween bel damm\n",
        "    13: (1617, 1612),\n",
        "    # shadd and tanween bel kasr\n",
        "    14: (1617, 1613)\n",
        "}\n"
      ],
      "metadata": {
        "id": "vvcgaBwm00nq"
      },
      "execution_count": 5,
      "outputs": []
    },
    {
      "cell_type": "code",
      "source": [
        "# Tokenize the text into sequences at the character level\n",
        "unique_chars = set(''.join(training_data + validation_data))\n",
        "diacritization = list(labels.keys())\n",
        "\n",
        "char_to_index = {char: idx for idx, char in enumerate(unique_chars)}\n",
        "index_to_char = {idx: char for idx, char in enumerate(unique_chars)}\n",
        "\n",
        "print(char_to_index)\n",
        "\n",
        "def text_to_sequence(text):\n",
        "    return [char_to_index[char] for char in text]\n",
        "\n",
        "train_sequence = text_to_sequence(training_data)\n",
        "validation_sequences = text_to_sequence(validation_data)\n",
        "\n",
        "print(\"Number of unique characters: \", len(unique_chars))\n",
        "print(unique_chars)\n",
        "print(train_sequence[:10])"
      ],
      "metadata": {
        "colab": {
          "base_uri": "https://localhost:8080/"
        },
        "id": "kNlGoWIr1C6y",
        "outputId": "5cf438ec-9c6c-4ecf-84f0-e155395ef123"
      },
      "execution_count": 6,
      "outputs": [
        {
          "output_type": "stream",
          "name": "stdout",
          "text": [
            "{'ى': 0, 'ر': 1, 'ا': 2, 'ث': 3, 'ي': 4, 'ذ': 5, 'ت': 6, 'ئ': 7, 'ط': 8, 'غ': 9, 'ء': 10, 'ؤ': 11, 'ز': 12, 'ظ': 13, 'ك': 14, 'آ': 15, 'ة': 16, 'و': 17, 'ص': 18, 'د': 19, 'أ': 20, 'ن': 21, 'ج': 22, 'ق': 23, 'م': 24, 'ل': 25, 'ع': 26, 'خ': 27, 'س': 28, 'إ': 29, 'ب': 30, 'ه': 31, 'ش': 32, 'ح': 33, 'ض': 34, 'ف': 35}\n",
            "Number of unique characters:  36\n",
            "{'ى', 'ر', 'ا', 'ث', 'ي', 'ذ', 'ت', 'ئ', 'ط', 'غ', 'ء', 'ؤ', 'ز', 'ظ', 'ك', 'آ', 'ة', 'و', 'ص', 'د', 'أ', 'ن', 'ج', 'ق', 'م', 'ل', 'ع', 'خ', 'س', 'إ', 'ب', 'ه', 'ش', 'ح', 'ض', 'ف'}\n",
            "[23, 17, 25, 31, 20, 17, 23, 8, 26, 2]\n"
          ]
        }
      ]
    },
    {
      "cell_type": "code",
      "source": [
        "training_data_labels = []\n",
        "training_size = len(training_data_diacritized)\n",
        "index = 0\n",
        "while index < training_size:\n",
        "    if ord(training_data_diacritized[index]) not in labels:\n",
        "        # char is not a diacritic\n",
        "        if (index + 1) < training_size and ord(training_data_diacritized[index + 1]) in labels:\n",
        "            # char has a diacritic\n",
        "            if ord(training_data_diacritized[index + 1]) == 1617:\n",
        "                # char has a shadd diacritic\n",
        "                if (index + 2) < training_size and ord(training_data_diacritized[index + 2]) in labels:\n",
        "                    # char has a shadd and another diacritic\n",
        "                    training_data_labels.append(labels[(1617, ord(training_data_diacritized[index + 2]))])\n",
        "                    # skip next 2 diacritics chars\n",
        "                    index += 3  # increment by 3 to skip two diacritic chars\n",
        "                    continue\n",
        "                else:\n",
        "                    # char has a shadd and no other diacritic\n",
        "                    training_data_labels.append(labels[1617])\n",
        "                    # skip next diacritic char\n",
        "                    index += 2\n",
        "                    continue\n",
        "            # char has a diacritic other than shadd\n",
        "            training_data_labels.append(labels[ord(training_data_diacritized[index + 1])])\n",
        "            # skip next diacritic char\n",
        "            index += 2  # increment by 2 to skip one diacritic char\n",
        "            continue\n",
        "        else:\n",
        "            # char has no diacritic\n",
        "            training_data_labels.append(0)\n",
        "    index += 1  # increment by 1 for normal iteration\n"
      ],
      "metadata": {
        "id": "qKv_s2Xh1KCa"
      },
      "execution_count": null,
      "outputs": []
    },
    {
      "cell_type": "code",
      "source": [
        "print(len(training_data_labels))\n",
        "print(len(train_sequence))"
      ],
      "metadata": {
        "id": "U4eAthcK1K77"
      },
      "execution_count": null,
      "outputs": []
    },
    {
      "cell_type": "code",
      "source": [
        "# Create the training sequences\n",
        "sequence_length = 5  # Choose an appropriate sequence length\n",
        "X = [train_sequence[i:i+sequence_length] for i in range(len(train_sequence)-sequence_length+1)]\n",
        "y = training_data_labels[sequence_length-1:]\n",
        "X = torch.tensor(X)\n",
        "y = torch.tensor(y)\n",
        "print(X.shape)\n",
        "print(y.shape)\n",
        "\n",
        "\n"
      ],
      "metadata": {
        "id": "njjT1QyI1PQL"
      },
      "execution_count": null,
      "outputs": []
    },
    {
      "cell_type": "code",
      "source": [
        "# create the validation sequences\n",
        "validation_data_labels = []\n",
        "validation_size = len(validation_data_diacritized)\n",
        "index = 0\n",
        "while index < validation_size:\n",
        "    if ord(validation_data_diacritized[index]) not in labels:\n",
        "        # char is not a diacritic\n",
        "        if (index + 1) < validation_size and ord(validation_data_diacritized[index + 1]) in labels:\n",
        "            # char has a diacritic\n",
        "            if ord(validation_data_diacritized[index + 1]) == 1617:\n",
        "                # char has a shadd diacritic\n",
        "                if (index + 2) < validation_size and ord(validation_data_diacritized[index + 2]) in labels:\n",
        "                    # char has a shadd and another diacritic\n",
        "                    validation_data_labels.append(labels[(1617, ord(validation_data_diacritized[index + 2]))])\n",
        "                    # skip next 2 diacritics chars\n",
        "                    index += 3  # increment by 3 to skip two diacritic chars\n",
        "                    continue\n",
        "                else:\n",
        "                    # char has a shadd and no other diacritic\n",
        "                    validation_data_labels.append(labels[1617])\n",
        "                    # skip next diacritic char\n",
        "                    index += 2\n",
        "                    continue\n",
        "            # char has a diacritic other than shadd\n",
        "            validation_data_labels.append(labels[ord(validation_data_diacritized[index + 1])])\n",
        "            # skip next diacritic char\n",
        "            index += 2  # increment by 2 to skip one diacritic char\n",
        "            continue\n",
        "        else:\n",
        "            # char has no diacritic\n",
        "            validation_data_labels.append(0)\n",
        "    index += 1  # increment by 1 for normal iteration\n",
        ""
      ],
      "metadata": {
        "id": "wN6-J84o1RAy"
      },
      "execution_count": null,
      "outputs": []
    },
    {
      "cell_type": "code",
      "source": [
        "print(len(validation_data_labels))\n",
        "print(len(validation_sequences))"
      ],
      "metadata": {
        "id": "0fkPRa3h1Smh"
      },
      "execution_count": null,
      "outputs": []
    },
    {
      "cell_type": "code",
      "source": [
        "# Create the validation sequences\n",
        "sequence_length = 5  # Choose an appropriate sequence length\n",
        "X_val = [validation_sequences[i:i+sequence_length] for i in range(len(validation_sequences)-sequence_length+1)]\n",
        "y_val = validation_data_labels[sequence_length-1:]\n",
        "X_val = torch.tensor(X_val)\n",
        "y_val = torch.tensor(y_val)\n",
        "print(X_val.shape)\n",
        "print(y_val.shape)\n"
      ],
      "metadata": {
        "id": "7rGCcY5s1Tti"
      },
      "execution_count": null,
      "outputs": []
    },
    {
      "cell_type": "code",
      "source": [
        "# Step 4: Define Dataset and DataLoader\n",
        "class CustomDataset(Dataset):\n",
        "    def __init__(self, X, y):\n",
        "        self.X = X\n",
        "        self.y = y\n",
        "\n",
        "    def __len__(self):\n",
        "        return len(self.X)\n",
        "\n",
        "    def __getitem__(self, index):\n",
        "        return torch.tensor(self.X[index]), torch.tensor(self.y[index])\n",
        "\n",
        "train_dataset = CustomDataset(X, y)\n",
        "train_loader = DataLoader(train_dataset, batch_size=32, shuffle=True)"
      ],
      "metadata": {
        "id": "s_-FQqWX1U-Z"
      },
      "execution_count": null,
      "outputs": []
    },
    {
      "cell_type": "code",
      "source": [
        "# Step 5: Model Definition\n",
        "class SimpleRNN(nn.Module):\n",
        "    def __init__(self, input_size, hidden_size, output_size):\n",
        "        super(SimpleRNN, self).__init__()\n",
        "        self.rnn = nn.RNN(input_size, hidden_size, batch_first=True)\n",
        "        self.fc = nn.Linear(hidden_size, output_size)\n",
        "\n",
        "    def forward(self, x):\n",
        "        out, _ = self.rnn(x)\n",
        "        out = self.fc(out)\n",
        "        return out"
      ],
      "metadata": {
        "id": "IlKOTRBA1Wex"
      },
      "execution_count": null,
      "outputs": []
    },
    {
      "cell_type": "code",
      "source": [
        "model = SimpleRNN(input_size=5, hidden_size=64, output_size=15)"
      ],
      "metadata": {
        "id": "7jb-R_zr1aw6"
      },
      "execution_count": null,
      "outputs": []
    },
    {
      "cell_type": "code",
      "source": [
        "# Step 6: Loss Function, Optimizer, Training\n",
        "criterion = nn.CrossEntropyLoss()\n",
        "optimizer = optim.Adam(model.parameters(), lr=0.001)\n",
        "\n",
        "epochs = 1\n",
        "for epoch in range(epochs):\n",
        "    for inputs, labels in train_loader:\n",
        "        optimizer.zero_grad()\n",
        "        outputs = model(inputs.float())\n",
        "        loss = criterion(outputs, labels)\n",
        "        loss.backward()\n",
        "        optimizer.step()\n",
        "\n",
        "# Step 7: Evaluation\n",
        "with torch.no_grad():\n",
        "    model.eval()\n",
        "    test_inputs = torch.tensor(X_val)\n",
        "    test_labels = torch.tensor(y_val)\n",
        "    test_outputs = model(test_inputs.float())\n",
        "    _, predicted = torch.max(test_outputs, 1)\n",
        "    accuracy = (predicted == test_labels).sum().item() / len(test_labels)\n",
        "\n",
        "print(\"Test Accuracy:\", accuracy)"
      ],
      "metadata": {
        "id": "ZIEcGnGA1ceK"
      },
      "execution_count": null,
      "outputs": []
    }
  ]
}